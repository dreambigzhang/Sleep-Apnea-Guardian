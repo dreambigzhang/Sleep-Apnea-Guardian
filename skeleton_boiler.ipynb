{
 "cells": [
  {
   "cell_type": "markdown",
   "metadata": {},
   "source": [
    "Welcome to the introduction to PyQt5 and EEG data processing!\n",
    "Today, we're going to walk through connecting to hardware, and graphing the raw data in our very own window.\n",
    "We'll also cover a few other GUI elements, like buttons and event handling.\n",
    "Finally, we'll discuss some further ways to process and display EEG data.\n",
    "\n",
    "TODO: put board stuff at the end as a teaser for next week"
   ]
  },
  {
   "cell_type": "code",
   "execution_count": 1,
   "metadata": {},
   "outputs": [],
   "source": [
    "# we'll start with eeg connection\n",
    "from brainflow.data_filter import (\n",
    "    DataFilter,\n",
    "    FilterTypes,\n",
    "    AggOperations,\n",
    "    WindowFunctions,\n",
    "    DetrendOperations,\n",
    ")\n",
    "import numpy as np\n",
    "from brainflow.board_shim import BoardShim, BrainFlowInputParams, BoardIds\n",
    "from Board import Board, get_board_id\n",
    "from utils.save_to_csv import save_to_csv\n"
   ]
  },
  {
   "cell_type": "code",
   "execution_count": 4,
   "metadata": {},
   "outputs": [
    {
     "name": "stdout",
     "output_type": "stream",
     "text": [
      "init hardware is running with hardware  model \n"
     ]
    }
   ],
   "source": [
    "# setting up a board object\n",
    "board_id = 1\n",
    "\n",
    "board = Board(board_id = board_id)"
   ]
  },
  {
   "cell_type": "code",
   "execution_count": 5,
   "metadata": {},
   "outputs": [
    {
     "name": "stdout",
     "output_type": "stream",
     "text": [
      "[1 2 3 4]\n"
     ]
    }
   ],
   "source": [
    "\n",
    "data = board.get_data_quantity(10)\n",
    "file_name = 'skelton_csv.csv'\n",
    "exg_channels = board.get_exg_channels()\n",
    "print(exg_channels)\n",
    "save_to_csv(data,file_name,exg_channels)\n"
   ]
  },
  {
   "cell_type": "markdown",
   "metadata": {},
   "source": [
    "Let's make a nice, basic pyqt5 window. All our pyqt5 windows will be classes, and we'll create an instance of that class.\n",
    "Our first iteration of this window is the same as what's provided in the 'pyqt5_blank_window.py' file in utils.\n",
    "\n",
    "Note: this window will keep running until you close it - meaning that your code won't terminate until then."
   ]
  },
  {
   "cell_type": "code",
   "execution_count": 1,
   "metadata": {},
   "outputs": [],
   "source": [
    "import sys\n",
    "\n",
    "from PyQt5 import QtGui\n",
    "from PyQt5.QtOpenGL import *\n",
    "from PyQt5 import QtCore, QtOpenGL, Qt\n",
    "from PyQt5.QtWidgets import *\n",
    "\n",
    "class TestWindow(QMainWindow):\n",
    "    def __init__(self, parent=None):\n",
    "        super().__init__()\n",
    "        self.setMinimumSize(800,200)\n",
    "    \n",
    "        # setting window title\n",
    "        self.setWindowTitle('PyQt5 Blank Window')\n",
    "        \n",
    "        # init layout\n",
    "        self.layout = QGridLayout()\n",
    "        widget = QWidget()\n",
    "        widget.setLayout(self.layout)\n",
    "        self.setCentralWidget(widget)\n",
    "\n",
    "        # here is where you create your widgets and add them to the layout\n",
    "  \n",
    "    def closeEvent(self, event):\n",
    "        # this code will autorun just before the window closes\n",
    "        \n",
    "        event.accept()\n",
    "\n",
    "# if __name__ == '__main__':    \n",
    "#     app = QApplication(sys.argv)    \n",
    "#     win = TestWindow() \n",
    "#     win.show() \n",
    "#     app.exec()"
   ]
  },
  {
   "cell_type": "code",
   "execution_count": 2,
   "metadata": {},
   "outputs": [
    {
     "name": "stderr",
     "output_type": "stream",
     "text": [
      "No traceback available to show.\n"
     ]
    }
   ],
   "source": [
    "%tb\n",
    "class TestWindow2(TestWindow):\n",
    "    def __init__(self, parent=None):\n",
    "        super().__init__()\n",
    "        # make a button\n",
    "        self.button = QPushButton('Push me!')\n",
    "\n",
    "        # make a variable to track how many times it's pushed\n",
    "        self.num_pushes = 0\n",
    "\n",
    "        # make a label to display that info\n",
    "        self.label = QLabel('You have pushed {} times'.format(self.num_pushes))\n",
    "\n",
    "        # add those to the window\n",
    "        self.layout.addWidget(self.button)\n",
    "        self.layout.addWidget(self.label)\n",
    "\n",
    "        # connect the button push event to an event handler\n",
    "        self.button.pressed.connect(self.handle_button_push)\n",
    "\n",
    "    def handle_button_push(self):\n",
    "        # this runs when the button is pushed\n",
    "        self.num_pushes += 1\n",
    "        self.label.setText('You have pushed {} times'.format(self.num_pushes))\n",
    "\n",
    "if __name__ == '__main__':    \n",
    "    app = QApplication(sys.argv)    \n",
    "    win = TestWindow2() \n",
    "    win.show() \n",
    "    app.exec()"
   ]
  },
  {
   "cell_type": "code",
   "execution_count": 1,
   "metadata": {},
   "outputs": [
    {
     "name": "stderr",
     "output_type": "stream",
     "text": [
      "No traceback available to show.\n"
     ]
    }
   ],
   "source": [
    "%tb"
   ]
  },
  {
   "cell_type": "code",
   "execution_count": null,
   "metadata": {},
   "outputs": [],
   "source": []
  }
 ],
 "metadata": {
  "kernelspec": {
   "display_name": "Python 3 (ipykernel)",
   "language": "python",
   "name": "python3"
  },
  "language_info": {
   "codemirror_mode": {
    "name": "ipython",
    "version": 3
   },
   "file_extension": ".py",
   "mimetype": "text/x-python",
   "name": "python",
   "nbconvert_exporter": "python",
   "pygments_lexer": "ipython3",
   "version": "3.9.7"
  },
  "vscode": {
   "interpreter": {
    "hash": "c716e0fb4b180fcbf0cb27c4d0c884c3ca25ac720642698ef5e3f6ef57a0d337"
   }
  }
 },
 "nbformat": 4,
 "nbformat_minor": 2
}
