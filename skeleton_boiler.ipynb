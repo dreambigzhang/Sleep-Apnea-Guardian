{
 "cells": [
  {
   "cell_type": "markdown",
   "metadata": {},
   "source": [
    "Welcome to the introduction to PyQt5 and EEG data processing!\n",
    "Today, we're going to walk through connecting to hardware, and graphing the raw data in our very own window.\n",
    "We'll also cover a few other GUI elements, like buttons and event handling.\n",
    "Finally, we'll discuss some further ways to process and display EEG data."
   ]
  },
  {
   "cell_type": "code",
   "execution_count": 1,
   "metadata": {},
   "outputs": [],
   "source": [
    "# we'll start with eeg connection\n",
    "from brainflow.data_filter import (\n",
    "    DataFilter,\n",
    "    FilterTypes,\n",
    "    AggOperations,\n",
    "    WindowFunctions,\n",
    "    DetrendOperations,\n",
    ")\n",
    "import numpy as np\n",
    "from brainflow.board_shim import BoardShim, BrainFlowInputParams, BoardIds\n"
   ]
  },
  {
   "cell_type": "code",
   "execution_count": 2,
   "metadata": {},
   "outputs": [],
   "source": [
    "\n",
    "params = BrainFlowInputParams()\n",
    "params.serial_port = 'COM3'\n",
    "board_id = 1\n",
    "exg_channels = BoardShim.get_exg_channels(board_id)\n",
    "board = BoardShim(board_id, params)\n",
    "board.prepare_session()\n",
    "board.start_stream()\n",
    "data = board.get_current_board_data(50)\n"
   ]
  },
  {
   "cell_type": "code",
   "execution_count": 3,
   "metadata": {},
   "outputs": [
    {
     "name": "stdout",
     "output_type": "stream",
     "text": [
      "[[ 9.64146209 29.69854555 10.69237397 -0.2804925  21.67646014 19.06600997\n",
      "  -5.13862254 15.74123891 21.74003844  5.44903424]\n",
      " [ 7.19930741 24.83667561  5.79684493  3.94559445 19.24552517 14.75764523\n",
      "   0.62830319 14.25275873 14.16674103  4.15876875]\n",
      " [ 8.95706039 24.58610231  7.89492881  3.60526356 19.46243937 15.94693341\n",
      "   2.18410157  8.5269719  15.87961521  3.65014236]\n",
      " [ 3.61274336 18.95007308 10.81953057  2.36735667 12.86899575 12.40898805\n",
      "  -2.63662947 13.63193534 13.79275104  4.57763755]]\n"
     ]
    }
   ],
   "source": [
    "\n",
    "data = board.get_current_board_data(10)\n",
    "print(data[exg_channels,:])\n",
    "file_name = 'skelton_csv.csv'\n",
    "type(data)\n",
    "with open(file_name,'a') as csvfile:\n",
    "    np.savetxt(csvfile,data[exg_channels,:],delimiter = ',')\n"
   ]
  }
 ],
 "metadata": {
  "kernelspec": {
   "display_name": "Python 3.9.7 ('Bermuda')",
   "language": "python",
   "name": "python3"
  },
  "language_info": {
   "codemirror_mode": {
    "name": "ipython",
    "version": 3
   },
   "file_extension": ".py",
   "mimetype": "text/x-python",
   "name": "python",
   "nbconvert_exporter": "python",
   "pygments_lexer": "ipython3",
   "version": "3.9.7"
  },
  "orig_nbformat": 4,
  "vscode": {
   "interpreter": {
    "hash": "c716e0fb4b180fcbf0cb27c4d0c884c3ca25ac720642698ef5e3f6ef57a0d337"
   }
  }
 },
 "nbformat": 4,
 "nbformat_minor": 2
}
